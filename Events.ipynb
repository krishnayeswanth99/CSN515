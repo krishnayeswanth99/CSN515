{
 "cells": [
  {
   "cell_type": "code",
   "execution_count": 52,
   "metadata": {},
   "outputs": [],
   "source": [
    "import pandas as pd\n",
    "import glob,os\n",
    "from matplotlib import pyplot as plt\n",
    "import numpy as np\n",
    "from collections import Counter\n",
    "import pyfpgrowth"
   ]
  },
  {
   "cell_type": "code",
   "execution_count": 53,
   "metadata": {},
   "outputs": [],
   "source": [
    "df = pd.read_csv('filtered.tsv',delimiter='\\t')"
   ]
  },
  {
   "cell_type": "code",
   "execution_count": 54,
   "metadata": {},
   "outputs": [],
   "source": [
    "pd.set_option('max_colwidth',100)"
   ]
  },
  {
   "cell_type": "code",
   "execution_count": 55,
   "metadata": {},
   "outputs": [
    {
     "data": {
      "text/plain": [
       "Index(['Borough', 'Event Type', 'Audience', 'Attendance', 'Class'], dtype='object')"
      ]
     },
     "execution_count": 55,
     "metadata": {},
     "output_type": "execute_result"
    }
   ],
   "source": [
    "df.columns"
   ]
  },
  {
   "cell_type": "code",
   "execution_count": 56,
   "metadata": {},
   "outputs": [
    {
     "data": {
      "text/html": [
       "<div>\n",
       "<style scoped>\n",
       "    .dataframe tbody tr th:only-of-type {\n",
       "        vertical-align: middle;\n",
       "    }\n",
       "\n",
       "    .dataframe tbody tr th {\n",
       "        vertical-align: top;\n",
       "    }\n",
       "\n",
       "    .dataframe thead th {\n",
       "        text-align: right;\n",
       "    }\n",
       "</style>\n",
       "<table border=\"1\" class=\"dataframe\">\n",
       "  <thead>\n",
       "    <tr style=\"text-align: right;\">\n",
       "      <th></th>\n",
       "      <th>Borough</th>\n",
       "      <th>Event Type</th>\n",
       "      <th>Audience</th>\n",
       "      <th>Attendance</th>\n",
       "      <th>Class</th>\n",
       "    </tr>\n",
       "  </thead>\n",
       "  <tbody>\n",
       "    <tr>\n",
       "      <th>0</th>\n",
       "      <td>Queens</td>\n",
       "      <td>Local Event</td>\n",
       "      <td>General Public</td>\n",
       "      <td>1200.0</td>\n",
       "      <td>Play</td>\n",
       "    </tr>\n",
       "    <tr>\n",
       "      <th>1</th>\n",
       "      <td>Queens</td>\n",
       "      <td>Local Event</td>\n",
       "      <td>General Public</td>\n",
       "      <td>600.0</td>\n",
       "      <td>Play</td>\n",
       "    </tr>\n",
       "    <tr>\n",
       "      <th>2</th>\n",
       "      <td>Queens</td>\n",
       "      <td>Local Event</td>\n",
       "      <td>General Public</td>\n",
       "      <td>400.0</td>\n",
       "      <td>Play</td>\n",
       "    </tr>\n",
       "    <tr>\n",
       "      <th>3</th>\n",
       "      <td>Queens</td>\n",
       "      <td>Local Event</td>\n",
       "      <td>General Public</td>\n",
       "      <td>250.0</td>\n",
       "      <td>Play</td>\n",
       "    </tr>\n",
       "    <tr>\n",
       "      <th>4</th>\n",
       "      <td>Queens</td>\n",
       "      <td>Local Event</td>\n",
       "      <td>General Public</td>\n",
       "      <td>190.0</td>\n",
       "      <td>Play</td>\n",
       "    </tr>\n",
       "  </tbody>\n",
       "</table>\n",
       "</div>"
      ],
      "text/plain": [
       "  Borough   Event Type        Audience  Attendance Class\n",
       "0  Queens  Local Event  General Public      1200.0  Play\n",
       "1  Queens  Local Event  General Public       600.0  Play\n",
       "2  Queens  Local Event  General Public       400.0  Play\n",
       "3  Queens  Local Event  General Public       250.0  Play\n",
       "4  Queens  Local Event  General Public       190.0  Play"
      ]
     },
     "execution_count": 56,
     "metadata": {},
     "output_type": "execute_result"
    }
   ],
   "source": [
    "df.head()"
   ]
  },
  {
   "cell_type": "code",
   "execution_count": 57,
   "metadata": {},
   "outputs": [
    {
     "data": {
      "text/html": [
       "<div>\n",
       "<style scoped>\n",
       "    .dataframe tbody tr th:only-of-type {\n",
       "        vertical-align: middle;\n",
       "    }\n",
       "\n",
       "    .dataframe tbody tr th {\n",
       "        vertical-align: top;\n",
       "    }\n",
       "\n",
       "    .dataframe thead th {\n",
       "        text-align: right;\n",
       "    }\n",
       "</style>\n",
       "<table border=\"1\" class=\"dataframe\">\n",
       "  <thead>\n",
       "    <tr style=\"text-align: right;\">\n",
       "      <th></th>\n",
       "      <th>Borough</th>\n",
       "      <th>Event Type</th>\n",
       "      <th>Audience</th>\n",
       "      <th>Attendance</th>\n",
       "      <th>Class</th>\n",
       "    </tr>\n",
       "  </thead>\n",
       "  <tbody>\n",
       "    <tr>\n",
       "      <th>605</th>\n",
       "      <td>Manhattan</td>\n",
       "      <td>Community Based Event</td>\n",
       "      <td>General Public</td>\n",
       "      <td>NaN</td>\n",
       "      <td>Other</td>\n",
       "    </tr>\n",
       "    <tr>\n",
       "      <th>610</th>\n",
       "      <td>Manhattan</td>\n",
       "      <td>Community Based Event</td>\n",
       "      <td>General Public</td>\n",
       "      <td>NaN</td>\n",
       "      <td>Other</td>\n",
       "    </tr>\n",
       "    <tr>\n",
       "      <th>633</th>\n",
       "      <td>Brooklyn</td>\n",
       "      <td>Tournament/Competition</td>\n",
       "      <td>Teens,Young Adult</td>\n",
       "      <td>NaN</td>\n",
       "      <td>Sport</td>\n",
       "    </tr>\n",
       "    <tr>\n",
       "      <th>789</th>\n",
       "      <td>Manhattan</td>\n",
       "      <td>Community Based Event</td>\n",
       "      <td>General Public</td>\n",
       "      <td>NaN</td>\n",
       "      <td>Lecture/Panel/Talk</td>\n",
       "    </tr>\n",
       "    <tr>\n",
       "      <th>792</th>\n",
       "      <td>Staten Island</td>\n",
       "      <td>Community Based Event</td>\n",
       "      <td>General Public</td>\n",
       "      <td>NaN</td>\n",
       "      <td>Sport</td>\n",
       "    </tr>\n",
       "    <tr>\n",
       "      <th>793</th>\n",
       "      <td>Staten Island</td>\n",
       "      <td>Community Based Event</td>\n",
       "      <td>General Public</td>\n",
       "      <td>NaN</td>\n",
       "      <td>Sport</td>\n",
       "    </tr>\n",
       "    <tr>\n",
       "      <th>1023</th>\n",
       "      <td>Manhattan</td>\n",
       "      <td>Community Based Event</td>\n",
       "      <td>Children,Tot,Young Adult,Adults,Teens,Seniors,Adaptive,General Public</td>\n",
       "      <td>NaN</td>\n",
       "      <td>Play</td>\n",
       "    </tr>\n",
       "  </tbody>\n",
       "</table>\n",
       "</div>"
      ],
      "text/plain": [
       "            Borough              Event Type  \\\n",
       "605       Manhattan   Community Based Event   \n",
       "610       Manhattan   Community Based Event   \n",
       "633        Brooklyn  Tournament/Competition   \n",
       "789       Manhattan   Community Based Event   \n",
       "792   Staten Island   Community Based Event   \n",
       "793   Staten Island   Community Based Event   \n",
       "1023      Manhattan   Community Based Event   \n",
       "\n",
       "                                                                   Audience  \\\n",
       "605                                                          General Public   \n",
       "610                                                          General Public   \n",
       "633                                                       Teens,Young Adult   \n",
       "789                                                          General Public   \n",
       "792                                                          General Public   \n",
       "793                                                          General Public   \n",
       "1023  Children,Tot,Young Adult,Adults,Teens,Seniors,Adaptive,General Public   \n",
       "\n",
       "      Attendance               Class  \n",
       "605          NaN               Other  \n",
       "610          NaN               Other  \n",
       "633          NaN               Sport  \n",
       "789          NaN  Lecture/Panel/Talk  \n",
       "792          NaN               Sport  \n",
       "793          NaN               Sport  \n",
       "1023         NaN                Play  "
      ]
     },
     "execution_count": 57,
     "metadata": {},
     "output_type": "execute_result"
    }
   ],
   "source": [
    "df[df.isna().any(axis=1)]"
   ]
  },
  {
   "cell_type": "code",
   "execution_count": 58,
   "metadata": {},
   "outputs": [],
   "source": [
    "df=df.dropna()"
   ]
  },
  {
   "cell_type": "code",
   "execution_count": 59,
   "metadata": {},
   "outputs": [],
   "source": [
    "pro = list(set(df['Borough']))\n",
    "cla = list(set(df['Class']))"
   ]
  },
  {
   "cell_type": "code",
   "execution_count": 80,
   "metadata": {},
   "outputs": [
    {
     "data": {
      "text/plain": [
       "'AC&F, Awards, Dance, Fitness, Lecture/Panel/Talk, M.U.T.S, Movies, Music, Other, Play, Sport'"
      ]
     },
     "execution_count": 80,
     "metadata": {},
     "output_type": "execute_result"
    }
   ],
   "source": [
    "', '.join(sorted(cla))"
   ]
  },
  {
   "cell_type": "code",
   "execution_count": 68,
   "metadata": {},
   "outputs": [],
   "source": [
    "list_audience = []\n",
    "list_count = []\n",
    "for i in pro:\n",
    "    p = df[df['Borough']==i]['Attendance']\n",
    "    list_count.append(p.count())\n",
    "    list_audience.append(p.sum()/p.count())"
   ]
  },
  {
   "cell_type": "code",
   "execution_count": 69,
   "metadata": {},
   "outputs": [
    {
     "data": {
      "text/plain": [
       "(['Staten Island', 'Queens', 'Manhattan', 'Bronx', 'Brooklyn'],\n",
       " [77.29245283018868,\n",
       "  197.09937888198758,\n",
       "  140.0940366972477,\n",
       "  75.00456621004567,\n",
       "  185.04132231404958])"
      ]
     },
     "execution_count": 69,
     "metadata": {},
     "output_type": "execute_result"
    }
   ],
   "source": [
    "pro,list_audience"
   ]
  },
  {
   "cell_type": "code",
   "execution_count": 71,
   "metadata": {},
   "outputs": [
    {
     "data": {
      "image/png": "[encoded data removed]",
      "text/plain": [
       "<Figure size 432x288 with 1 Axes>"
      ]
     },
     "metadata": {
      "needs_background": "light"
     },
     "output_type": "display_data"
    },
    {
     "data": {
      "text/plain": [
       "<Figure size 1440x1440 with 0 Axes>"
      ]
     },
     "metadata": {},
     "output_type": "display_data"
    }
   ],
   "source": [
    "fig, ax = plt.subplots()\n",
    "plt.figure(figsize=(20, 20))\n",
    "ax.bar(pro,list_audience, width=0.5)\n",
    "ax.set_ylabel('Average Attendance of Events')\n",
    "ax.set_xlabel('Borough')\n",
    "ax.set_title('Average Attendance of each Borough')\n",
    "plt.show()"
   ]
  },
  {
   "cell_type": "code",
   "execution_count": 72,
   "metadata": {},
   "outputs": [
    {
     "data": {
      "image/png": "[encoded data removed]",
      "text/plain": [
       "<Figure size 432x288 with 1 Axes>"
      ]
     },
     "metadata": {
      "needs_background": "light"
     },
     "output_type": "display_data"
    },
    {
     "data": {
      "text/plain": [
       "<Figure size 1440x1440 with 0 Axes>"
      ]
     },
     "metadata": {},
     "output_type": "display_data"
    }
   ],
   "source": [
    "fig, ax = plt.subplots()\n",
    "plt.figure(figsize=(20, 20))\n",
    "ax.bar(pro,list_count, width=0.5)\n",
    "ax.set_ylabel('No of Events')\n",
    "ax.set_xlabel('Borough')\n",
    "ax.set_title('No of Events conducted in each Borough')\n",
    "plt.show()"
   ]
  },
  {
   "cell_type": "code",
   "execution_count": 73,
   "metadata": {},
   "outputs": [
    {
     "data": {
      "text/plain": [
       "['Staten Island', 'Queens', 'Manhattan', 'Bronx', 'Brooklyn']"
      ]
     },
     "execution_count": 73,
     "metadata": {},
     "output_type": "execute_result"
    }
   ],
   "source": [
    "pro"
   ]
  },
  {
   "cell_type": "code",
   "execution_count": 104,
   "metadata": {},
   "outputs": [
    {
     "data": {
      "image/png": "[encoded data removed]",
      "text/plain": [
       "<Figure size 432x288 with 1 Axes>"
      ]
     },
     "metadata": {
      "needs_background": "light"
     },
     "output_type": "display_data"
    },
    {
     "data": {
      "text/plain": [
       "<Figure size 1440x1440 with 0 Axes>"
      ]
     },
     "metadata": {},
     "output_type": "display_data"
    }
   ],
   "source": [
    "list_count = [df[df['Class']==i]['Class'].count() for i in cla]\n",
    "\n",
    "fig, ax = plt.subplots()\n",
    "x = np.arange(len(cla))\n",
    "plt.figure(figsize=(20, 20))\n",
    "ax.bar(x,list_count, width=0.5, align='center')\n",
    "ax.set_ylabel('No of Events')\n",
    "ax.set_xlabel('Type of Events')\n",
    "ax.set_title('Event Frequencies')\n",
    "ax.set_xticks(x)\n",
    "ax.set_xticklabels(cla)\n",
    "plt.setp(ax.get_xticklabels(), fontsize=10, rotation='vertical')\n",
    "plt.show()"
   ]
  },
  {
   "cell_type": "code",
   "execution_count": 74,
   "metadata": {},
   "outputs": [],
   "source": [
    "list_audience = {i:[] for i in pro}\n",
    "list_count = {i:[] for i in pro}\n",
    "for i in pro:\n",
    "    for j in cla:\n",
    "        p=df[(df['Borough']==i)&(df['Class']==j)]['Attendance']\n",
    "        list_count[i].append(p.count())\n",
    "        if p.count()==0:\n",
    "            list_audience[i].append(0)\n",
    "        else:\n",
    "            list_audience[i].append(p.sum()/p.count())"
   ]
  },
  {
   "cell_type": "code",
   "execution_count": 81,
   "metadata": {},
   "outputs": [
    {
     "data": {
      "image/png": "[encoded data removed]",
      "text/plain": [
       "<Figure size 432x288 with 1 Axes>"
      ]
     },
     "metadata": {
      "needs_background": "light"
     },
     "output_type": "display_data"
    },
    {
     "data": {
      "text/plain": [
       "<Figure size 5760x2880 with 0 Axes>"
      ]
     },
     "metadata": {},
     "output_type": "display_data"
    }
   ],
   "source": [
    "x = np.arange(len(cla))*2.2\n",
    "width = 2\n",
    "fig, ax = plt.subplots()\n",
    "plt.figure(figsize=(80, 40))\n",
    "rect = []\n",
    "for i in range(-2,3):\n",
    "    rect.append(ax.bar(x - (i*width)/5, list_audience[pro[i+2]], width/5, label=pro[i+2],align='center'))\n",
    "\n",
    "ax.set_ylabel('Average Attendance')\n",
    "ax.set_xlabel('Event Types')\n",
    "ax.set_title('Average Attendance to different types of Events')\n",
    "ax.set_xticks(x)\n",
    "ax.set_xticklabels(cla)\n",
    "ax.legend()\n",
    "plt.setp(ax.get_xticklabels(), fontsize=10, rotation='vertical')\n",
    "\n",
    "# fig.tight_layout()\n",
    "plt.show()"
   ]
  },
  {
   "cell_type": "code",
   "execution_count": 82,
   "metadata": {},
   "outputs": [
    {
     "data": {
      "image/png": "[encoded data removed]",
      "text/plain": [
       "<Figure size 432x288 with 1 Axes>"
      ]
     },
     "metadata": {
      "needs_background": "light"
     },
     "output_type": "display_data"
    },
    {
     "data": {
      "text/plain": [
       "<Figure size 5760x2880 with 0 Axes>"
      ]
     },
     "metadata": {},
     "output_type": "display_data"
    }
   ],
   "source": [
    "x = np.arange(len(cla))*2.2\n",
    "width = 2\n",
    "fig, ax = plt.subplots()\n",
    "plt.figure(figsize=(80, 40))\n",
    "rect = []\n",
    "for i in range(-2,3):\n",
    "    rect.append(ax.bar(x - (i*width)/5, list_count[pro[i+2]], width/5, label=pro[i+2],align='center'))\n",
    "\n",
    "ax.set_ylabel('No of Events')\n",
    "ax.set_xlabel('Event Type')\n",
    "ax.set_title('Event Count vs Event Types')\n",
    "ax.set_xticks(x)\n",
    "ax.set_xticklabels(cla)\n",
    "ax.legend()\n",
    "plt.setp(ax.get_xticklabels(), fontsize=10, rotation='vertical')\n",
    "\n",
    "# fig.tight_layout()\n",
    "plt.show()"
   ]
  },
  {
   "cell_type": "code",
   "execution_count": 17,
   "metadata": {},
   "outputs": [
    {
     "name": "stdout",
     "output_type": "stream",
     "text": [
      "{'Young Adult', 'Seniors', 'Tot', 'Children', 'Adaptive', 'Teens', 'General Public', 'Adults'}\n",
      "['Young Adult', 'Seniors', 'Tot', 'Children', 'Teens', 'Adults']\n"
     ]
    }
   ],
   "source": [
    "s=set()\n",
    "for i in df['Audience']:\n",
    "    s=s.union(set(i.split(',')))\n",
    "print(s)\n",
    "s.remove('General Public')\n",
    "s.remove('Adaptive')\n",
    "s=list(s)\n",
    "print(s)"
   ]
  },
  {
   "cell_type": "code",
   "execution_count": 18,
   "metadata": {},
   "outputs": [
    {
     "name": "stdout",
     "output_type": "stream",
     "text": [
      "1042\n"
     ]
    }
   ],
   "source": [
    "transactions = []\n",
    "for i in range(len(df)):\n",
    "    transactions.append([df.iloc[i]['Class']])\n",
    "    p = df.iloc[i]['Audience'].split(',')\n",
    "    if 'General Public' in p:\n",
    "        p.remove('General Public')\n",
    "        p.extend(s)\n",
    "    if 'Adaptive' in p:\n",
    "        p.remove('Adaptive')\n",
    "    p=list(set(p))\n",
    "    transactions[i].extend(p)\n",
    "\n",
    "transactions = [sorted(i) for i in transactions if len(i)>1]\n",
    "print(len(transactions))"
   ]
  },
  {
   "cell_type": "code",
   "execution_count": 105,
   "metadata": {},
   "outputs": [],
   "source": [
    "patterns = pyfpgrowth.find_frequent_patterns(transactions, 100)"
   ]
  },
  {
   "cell_type": "code",
   "execution_count": 107,
   "metadata": {},
   "outputs": [
    {
     "data": {
      "text/plain": [
       "{('Play',): 115,\n",
       " ('Children', 'Play'): 106,\n",
       " ('Other', 'Tot'): 104,\n",
       " ('Children', 'Other', 'Tot'): 102,\n",
       " ('Other', 'Seniors', 'Young Adult'): 102,\n",
       " ('Adults', 'Other', 'Seniors', 'Young Adult'): 101,\n",
       " ('Other', 'Seniors', 'Teens'): 102,\n",
       " ('Adults', 'Other', 'Seniors', 'Teens'): 102,\n",
       " ('Adults', 'Other', 'Seniors'): 107,\n",
       " ('Children', 'Other', 'Young Adult'): 105,\n",
       " ('Children', 'Other', 'Teens', 'Young Adult'): 101,\n",
       " ('Adults', 'Children', 'Other', 'Young Adult'): 100,\n",
       " ('Adults', 'Children', 'Other', 'Teens', 'Young Adult'): 100,\n",
       " ('Adults', 'Other', 'Young Adult'): 106,\n",
       " ('Other', 'Teens', 'Young Adult'): 106,\n",
       " ('Adults', 'Other', 'Teens', 'Young Adult'): 103,\n",
       " ('Adults', 'Other'): 115,\n",
       " ('Adults', 'Children', 'Other'): 100,\n",
       " ('Adults', 'Other', 'Teens'): 106,\n",
       " ('Adults', 'Children', 'Other', 'Teens'): 100,\n",
       " ('Children', 'Other'): 120,\n",
       " ('Children', 'Other', 'Teens'): 108,\n",
       " ('Other', 'Teens'): 121,\n",
       " ('Movies', 'Young Adult'): 466,\n",
       " ('Adults', 'Movies', 'Young Adult'): 466,\n",
       " ('Movies', 'Tot', 'Young Adult'): 466,\n",
       " ('Movies', 'Seniors', 'Young Adult'): 466,\n",
       " ('Movies', 'Teens', 'Young Adult'): 466,\n",
       " ('Adults', 'Movies', 'Tot', 'Young Adult'): 466,\n",
       " ('Adults', 'Movies', 'Seniors', 'Young Adult'): 466,\n",
       " ('Adults', 'Movies', 'Teens', 'Young Adult'): 466,\n",
       " ('Movies', 'Seniors', 'Tot', 'Young Adult'): 466,\n",
       " ('Movies', 'Teens', 'Tot', 'Young Adult'): 466,\n",
       " ('Movies', 'Seniors', 'Teens', 'Young Adult'): 466,\n",
       " ('Adults', 'Movies', 'Seniors', 'Tot', 'Young Adult'): 466,\n",
       " ('Adults', 'Movies', 'Teens', 'Tot', 'Young Adult'): 466,\n",
       " ('Adults', 'Movies', 'Seniors', 'Teens', 'Young Adult'): 466,\n",
       " ('Movies', 'Seniors', 'Teens', 'Tot', 'Young Adult'): 466,\n",
       " ('Adults', 'Movies', 'Seniors', 'Teens', 'Tot', 'Young Adult'): 466,\n",
       " ('Children', 'Movies'): 466,\n",
       " ('Children', 'Movies', 'Young Adult'): 466,\n",
       " ('Adults', 'Children', 'Movies'): 466,\n",
       " ('Children', 'Movies', 'Tot'): 466,\n",
       " ('Children', 'Movies', 'Seniors'): 466,\n",
       " ('Children', 'Movies', 'Teens'): 466,\n",
       " ('Adults', 'Children', 'Movies', 'Young Adult'): 466,\n",
       " ('Children', 'Movies', 'Tot', 'Young Adult'): 466,\n",
       " ('Children', 'Movies', 'Seniors', 'Young Adult'): 466,\n",
       " ('Children', 'Movies', 'Teens', 'Young Adult'): 466,\n",
       " ('Adults', 'Children', 'Movies', 'Tot'): 466,\n",
       " ('Adults', 'Children', 'Movies', 'Seniors'): 466,\n",
       " ('Adults', 'Children', 'Movies', 'Teens'): 466,\n",
       " ('Children', 'Movies', 'Seniors', 'Tot'): 466,\n",
       " ('Children', 'Movies', 'Teens', 'Tot'): 466,\n",
       " ('Children', 'Movies', 'Seniors', 'Teens'): 466,\n",
       " ('Adults', 'Children', 'Movies', 'Tot', 'Young Adult'): 466,\n",
       " ('Adults', 'Children', 'Movies', 'Seniors', 'Young Adult'): 466,\n",
       " ('Adults', 'Children', 'Movies', 'Teens', 'Young Adult'): 466,\n",
       " ('Children', 'Movies', 'Seniors', 'Tot', 'Young Adult'): 466,\n",
       " ('Children', 'Movies', 'Teens', 'Tot', 'Young Adult'): 466,\n",
       " ('Children', 'Movies', 'Seniors', 'Teens', 'Young Adult'): 466,\n",
       " ('Adults', 'Children', 'Movies', 'Seniors', 'Tot'): 466,\n",
       " ('Adults', 'Children', 'Movies', 'Teens', 'Tot'): 466,\n",
       " ('Adults', 'Children', 'Movies', 'Seniors', 'Teens'): 466,\n",
       " ('Children', 'Movies', 'Seniors', 'Teens', 'Tot'): 466,\n",
       " ('Adults', 'Children', 'Movies', 'Seniors', 'Tot', 'Young Adult'): 466,\n",
       " ('Adults', 'Children', 'Movies', 'Teens', 'Tot', 'Young Adult'): 466,\n",
       " ('Adults', 'Children', 'Movies', 'Seniors', 'Teens', 'Young Adult'): 466,\n",
       " ('Children', 'Movies', 'Seniors', 'Teens', 'Tot', 'Young Adult'): 466,\n",
       " ('Adults', 'Children', 'Movies', 'Seniors', 'Teens', 'Tot'): 466,\n",
       " ('Adults',\n",
       "  'Children',\n",
       "  'Movies',\n",
       "  'Seniors',\n",
       "  'Teens',\n",
       "  'Tot',\n",
       "  'Young Adult'): 466,\n",
       " ('Movies', 'Seniors'): 467,\n",
       " ('Movies', 'Seniors', 'Teens'): 467,\n",
       " ('Movies', 'Tot'): 467,\n",
       " ('Movies', 'Seniors', 'Tot'): 466,\n",
       " ('Movies', 'Teens', 'Tot'): 466,\n",
       " ('Movies', 'Seniors', 'Teens', 'Tot'): 466,\n",
       " ('Adults', 'Movies'): 467,\n",
       " ('Adults', 'Movies', 'Tot'): 466,\n",
       " ('Adults', 'Movies', 'Seniors'): 467,\n",
       " ('Adults', 'Movies', 'Teens'): 467,\n",
       " ('Adults', 'Movies', 'Seniors', 'Tot'): 466,\n",
       " ('Adults', 'Movies', 'Teens', 'Tot'): 466,\n",
       " ('Adults', 'Movies', 'Seniors', 'Teens'): 467,\n",
       " ('Adults', 'Movies', 'Seniors', 'Teens', 'Tot'): 466,\n",
       " ('Movies', 'Teens'): 468,\n",
       " ('Seniors', 'Tot'): 856,\n",
       " ('Children', 'Seniors', 'Tot'): 855,\n",
       " ('Seniors', 'Teens', 'Tot'): 856,\n",
       " ('Seniors', 'Tot', 'Young Adult'): 856,\n",
       " ('Adults', 'Seniors', 'Tot'): 856,\n",
       " ('Children', 'Seniors', 'Teens', 'Tot'): 855,\n",
       " ('Children', 'Seniors', 'Tot', 'Young Adult'): 855,\n",
       " ('Adults', 'Children', 'Seniors', 'Tot'): 855,\n",
       " ('Seniors', 'Teens', 'Tot', 'Young Adult'): 856,\n",
       " ('Adults', 'Seniors', 'Teens', 'Tot'): 856,\n",
       " ('Adults', 'Seniors', 'Tot', 'Young Adult'): 856,\n",
       " ('Children', 'Seniors', 'Teens', 'Tot', 'Young Adult'): 855,\n",
       " ('Adults', 'Children', 'Seniors', 'Teens', 'Tot'): 855,\n",
       " ('Adults', 'Children', 'Seniors', 'Tot', 'Young Adult'): 855,\n",
       " ('Adults', 'Seniors', 'Teens', 'Tot', 'Young Adult'): 856,\n",
       " ('Adults', 'Children', 'Seniors', 'Teens', 'Tot', 'Young Adult'): 855,\n",
       " ('Children', 'Seniors'): 858,\n",
       " ('Children', 'Seniors', 'Teens'): 856,\n",
       " ('Children', 'Seniors', 'Young Adult'): 858,\n",
       " ('Adults', 'Children', 'Seniors'): 857,\n",
       " ('Children', 'Seniors', 'Teens', 'Young Adult'): 856,\n",
       " ('Adults', 'Children', 'Seniors', 'Teens'): 856,\n",
       " ('Adults', 'Children', 'Seniors', 'Young Adult'): 857,\n",
       " ('Adults', 'Children', 'Seniors', 'Teens', 'Young Adult'): 856,\n",
       " ('Seniors', 'Teens'): 866,\n",
       " ('Seniors', 'Teens', 'Young Adult'): 862,\n",
       " ('Adults', 'Seniors', 'Teens'): 866,\n",
       " ('Adults', 'Seniors', 'Teens', 'Young Adult'): 862,\n",
       " ('Seniors', 'Young Adult'): 872,\n",
       " ('Adults', 'Seniors', 'Young Adult'): 871,\n",
       " ('Adults', 'Seniors'): 885,\n",
       " ('Adults', 'Tot', 'Young Adult'): 863,\n",
       " ('Adults', 'Children', 'Tot'): 863,\n",
       " ('Adults', 'Children', 'Tot', 'Young Adult'): 862,\n",
       " ('Adults', 'Teens', 'Tot'): 861,\n",
       " ('Adults', 'Children', 'Teens', 'Tot'): 860,\n",
       " ('Teens', 'Tot', 'Young Adult'): 861,\n",
       " ('Adults', 'Teens', 'Tot', 'Young Adult'): 861,\n",
       " ('Children', 'Teens', 'Tot', 'Young Adult'): 860,\n",
       " ('Adults', 'Children', 'Teens', 'Tot', 'Young Adult'): 860,\n",
       " ('Children', 'Teens', 'Tot'): 863,\n",
       " ('Tot', 'Young Adult'): 866,\n",
       " ('Children', 'Tot', 'Young Adult'): 865,\n",
       " ('Children', 'Tot'): 883,\n",
       " ('Children', 'Teens', 'Young Adult'): 871,\n",
       " ('Adults', 'Children', 'Teens', 'Young Adult'): 867,\n",
       " ('Adults', 'Children', 'Young Adult'): 872,\n",
       " ('Teens', 'Young Adult'): 889,\n",
       " ('Adults', 'Teens', 'Young Adult'): 879,\n",
       " ('Adults', 'Young Adult'): 895,\n",
       " ('Adults', 'Children'): 875,\n",
       " ('Adults', 'Children', 'Teens'): 869,\n",
       " ('Adults', 'Teens'): 886,\n",
       " ('Teens',): 933,\n",
       " ('Children', 'Teens'): 893,\n",
       " ('Children',): 951}"
      ]
     },
     "execution_count": 107,
     "metadata": {},
     "output_type": "execute_result"
    }
   ],
   "source": [
    "patterns"
   ]
  },
  {
   "cell_type": "code",
   "execution_count": 108,
   "metadata": {},
   "outputs": [],
   "source": [
    "rules = pyfpgrowth.generate_association_rules(patterns, 0.3)"
   ]
  },
  {
   "cell_type": "code",
   "execution_count": 113,
   "metadata": {},
   "outputs": [],
   "source": [
    "keys = [key for key in rules.keys() if any([val in cla for val in key])]"
   ]
  },
  {
   "cell_type": "code",
   "execution_count": 117,
   "metadata": {},
   "outputs": [
    {
     "data": {
      "text/plain": [
       "{('Play',): (('Children',), 0.9217391304347826),\n",
       " ('Children', 'Other'): (('Teens',), 0.9),\n",
       " ('Other', 'Tot'): (('Children',), 0.9807692307692307),\n",
       " ('Adults', 'Other'): (('Children', 'Teens'), 0.8695652173913043),\n",
       " ('Adults', 'Other', 'Seniors'): (('Teens',), 0.9532710280373832),\n",
       " ('Adults', 'Other', 'Young Adult'): (('Teens',), 0.9716981132075472),\n",
       " ('Other', 'Seniors', 'Young Adult'): (('Adults',), 0.9901960784313726),\n",
       " ('Other', 'Teens'): (('Children',), 0.8925619834710744),\n",
       " ('Adults', 'Other', 'Teens'): (('Children',), 0.9433962264150944),\n",
       " ('Other', 'Seniors', 'Teens'): (('Adults',), 1.0),\n",
       " ('Children', 'Other', 'Teens'): (('Adults',), 0.9259259259259259),\n",
       " ('Children', 'Other', 'Young Adult'): (('Adults', 'Teens'),\n",
       "  0.9523809523809523),\n",
       " ('Other', 'Teens', 'Young Adult'): (('Adults',), 0.9716981132075472),\n",
       " ('Adults', 'Children', 'Other'): (('Teens',), 1.0),\n",
       " ('Adults', 'Children', 'Other', 'Teens'): (('Young Adult',), 1.0),\n",
       " ('Adults', 'Children', 'Other', 'Young Adult'): (('Teens',), 1.0),\n",
       " ('Adults', 'Other', 'Teens', 'Young Adult'): (('Children',),\n",
       "  0.970873786407767),\n",
       " ('Children', 'Other', 'Teens', 'Young Adult'): (('Adults',),\n",
       "  0.9900990099009901),\n",
       " ('Adults', 'Movies'): (('Seniors', 'Teens', 'Tot'), 0.9978586723768736),\n",
       " ('Movies', 'Young Adult'): (('Adults', 'Children', 'Seniors', 'Teens', 'Tot'),\n",
       "  1.0),\n",
       " ('Movies', 'Tot'): (('Adults', 'Seniors', 'Teens'), 0.9978586723768736),\n",
       " ('Movies', 'Seniors'): (('Adults', 'Teens', 'Tot'), 0.9978586723768736),\n",
       " ('Movies', 'Teens'): (('Adults', 'Seniors', 'Tot'), 0.9957264957264957),\n",
       " ('Adults', 'Movies', 'Tot'): (('Seniors', 'Teens'), 1.0),\n",
       " ('Adults', 'Movies', 'Young Adult'): (('Children', 'Seniors', 'Teens', 'Tot'),\n",
       "  1.0),\n",
       " ('Movies', 'Tot', 'Young Adult'): (('Adults', 'Children', 'Seniors', 'Teens'),\n",
       "  1.0),\n",
       " ('Adults', 'Movies', 'Seniors'): (('Teens', 'Tot'), 0.9978586723768736),\n",
       " ('Movies', 'Seniors', 'Young Adult'): (('Adults', 'Children', 'Teens', 'Tot'),\n",
       "  1.0),\n",
       " ('Adults', 'Movies', 'Teens'): (('Seniors', 'Tot'), 0.9978586723768736),\n",
       " ('Movies', 'Teens', 'Young Adult'): (('Adults', 'Children', 'Seniors', 'Tot'),\n",
       "  1.0),\n",
       " ('Movies', 'Seniors', 'Tot'): (('Adults', 'Teens'), 1.0),\n",
       " ('Movies', 'Teens', 'Tot'): (('Adults', 'Seniors'), 1.0),\n",
       " ('Movies', 'Seniors', 'Teens'): (('Adults', 'Tot'), 0.9978586723768736),\n",
       " ('Adults', 'Movies', 'Seniors', 'Tot'): (('Teens',), 1.0),\n",
       " ('Adults', 'Movies', 'Seniors', 'Young Adult'): (('Children', 'Teens', 'Tot'),\n",
       "  1.0),\n",
       " ('Adults', 'Movies', 'Tot', 'Young Adult'): (('Children', 'Seniors', 'Teens'),\n",
       "  1.0),\n",
       " ('Movies', 'Seniors', 'Tot', 'Young Adult'): (('Adults', 'Children', 'Teens'),\n",
       "  1.0),\n",
       " ('Adults', 'Movies', 'Teens', 'Tot'): (('Seniors',), 1.0),\n",
       " ('Adults', 'Movies', 'Teens', 'Young Adult'): (('Children', 'Seniors', 'Tot'),\n",
       "  1.0),\n",
       " ('Movies', 'Teens', 'Tot', 'Young Adult'): (('Adults', 'Children', 'Seniors'),\n",
       "  1.0),\n",
       " ('Adults', 'Movies', 'Seniors', 'Teens'): (('Tot',), 0.9978586723768736),\n",
       " ('Movies', 'Seniors', 'Teens', 'Young Adult'): (('Adults', 'Children', 'Tot'),\n",
       "  1.0),\n",
       " ('Movies', 'Seniors', 'Teens', 'Tot'): (('Adults',), 1.0),\n",
       " ('Adults', 'Movies', 'Seniors', 'Teens', 'Tot'): (('Children', 'Young Adult'),\n",
       "  1.0),\n",
       " ('Adults', 'Movies', 'Seniors', 'Teens', 'Young Adult'): (('Children', 'Tot'),\n",
       "  1.0),\n",
       " ('Adults', 'Movies', 'Seniors', 'Tot', 'Young Adult'): (('Children', 'Teens'),\n",
       "  1.0),\n",
       " ('Adults', 'Movies', 'Teens', 'Tot', 'Young Adult'): (('Children', 'Seniors'),\n",
       "  1.0),\n",
       " ('Movies', 'Seniors', 'Teens', 'Tot', 'Young Adult'): (('Adults', 'Children'),\n",
       "  1.0),\n",
       " ('Children', 'Movies'): (('Adults', 'Seniors', 'Teens', 'Tot', 'Young Adult'),\n",
       "  1.0),\n",
       " ('Adults', 'Children', 'Movies'): (('Seniors', 'Teens', 'Tot', 'Young Adult'),\n",
       "  1.0),\n",
       " ('Children', 'Movies', 'Young Adult'): (('Adults', 'Seniors', 'Teens', 'Tot'),\n",
       "  1.0),\n",
       " ('Children', 'Movies', 'Tot'): (('Adults', 'Seniors', 'Teens', 'Young Adult'),\n",
       "  1.0),\n",
       " ('Children', 'Movies', 'Seniors'): (('Adults', 'Teens', 'Tot', 'Young Adult'),\n",
       "  1.0),\n",
       " ('Children', 'Movies', 'Teens'): (('Adults', 'Seniors', 'Tot', 'Young Adult'),\n",
       "  1.0),\n",
       " ('Adults', 'Children', 'Movies', 'Tot'): (('Seniors', 'Teens', 'Young Adult'),\n",
       "  1.0),\n",
       " ('Adults', 'Children', 'Movies', 'Young Adult'): (('Seniors', 'Teens', 'Tot'),\n",
       "  1.0),\n",
       " ('Children', 'Movies', 'Tot', 'Young Adult'): (('Adults', 'Seniors', 'Teens'),\n",
       "  1.0),\n",
       " ('Adults', 'Children', 'Movies', 'Seniors'): (('Teens', 'Tot', 'Young Adult'),\n",
       "  1.0),\n",
       " ('Children', 'Movies', 'Seniors', 'Young Adult'): (('Adults', 'Teens', 'Tot'),\n",
       "  1.0),\n",
       " ('Adults', 'Children', 'Movies', 'Teens'): (('Seniors', 'Tot', 'Young Adult'),\n",
       "  1.0),\n",
       " ('Children', 'Movies', 'Teens', 'Young Adult'): (('Adults', 'Seniors', 'Tot'),\n",
       "  1.0),\n",
       " ('Children', 'Movies', 'Seniors', 'Tot'): (('Adults', 'Teens', 'Young Adult'),\n",
       "  1.0),\n",
       " ('Children', 'Movies', 'Teens', 'Tot'): (('Adults', 'Seniors', 'Young Adult'),\n",
       "  1.0),\n",
       " ('Children', 'Movies', 'Seniors', 'Teens'): (('Adults', 'Tot', 'Young Adult'),\n",
       "  1.0),\n",
       " ('Adults', 'Children', 'Movies', 'Seniors', 'Tot'): (('Teens', 'Young Adult'),\n",
       "  1.0),\n",
       " ('Adults', 'Children', 'Movies', 'Seniors', 'Young Adult'): (('Teens', 'Tot'),\n",
       "  1.0),\n",
       " ('Adults', 'Children', 'Movies', 'Tot', 'Young Adult'): (('Seniors', 'Teens'),\n",
       "  1.0),\n",
       " ('Children', 'Movies', 'Seniors', 'Tot', 'Young Adult'): (('Adults', 'Teens'),\n",
       "  1.0),\n",
       " ('Adults', 'Children', 'Movies', 'Teens', 'Tot'): (('Seniors', 'Young Adult'),\n",
       "  1.0),\n",
       " ('Adults', 'Children', 'Movies', 'Teens', 'Young Adult'): (('Seniors', 'Tot'),\n",
       "  1.0),\n",
       " ('Children', 'Movies', 'Teens', 'Tot', 'Young Adult'): (('Adults', 'Seniors'),\n",
       "  1.0),\n",
       " ('Adults', 'Children', 'Movies', 'Seniors', 'Teens'): (('Tot', 'Young Adult'),\n",
       "  1.0),\n",
       " ('Children', 'Movies', 'Seniors', 'Teens', 'Young Adult'): (('Adults', 'Tot'),\n",
       "  1.0),\n",
       " ('Children', 'Movies', 'Seniors', 'Teens', 'Tot'): (('Adults', 'Young Adult'),\n",
       "  1.0),\n",
       " ('Adults',\n",
       "  'Children',\n",
       "  'Movies',\n",
       "  'Seniors',\n",
       "  'Teens',\n",
       "  'Tot'): (('Young Adult',), 1.0),\n",
       " ('Adults',\n",
       "  'Children',\n",
       "  'Movies',\n",
       "  'Seniors',\n",
       "  'Teens',\n",
       "  'Young Adult'): (('Tot',), 1.0),\n",
       " ('Adults',\n",
       "  'Children',\n",
       "  'Movies',\n",
       "  'Seniors',\n",
       "  'Tot',\n",
       "  'Young Adult'): (('Teens',), 1.0),\n",
       " ('Adults',\n",
       "  'Children',\n",
       "  'Movies',\n",
       "  'Teens',\n",
       "  'Tot',\n",
       "  'Young Adult'): (('Seniors',), 1.0),\n",
       " ('Adults',\n",
       "  'Movies',\n",
       "  'Seniors',\n",
       "  'Teens',\n",
       "  'Tot',\n",
       "  'Young Adult'): (('Children',), 1.0),\n",
       " ('Children',\n",
       "  'Movies',\n",
       "  'Seniors',\n",
       "  'Teens',\n",
       "  'Tot',\n",
       "  'Young Adult'): (('Adults',), 1.0)}"
      ]
     },
     "execution_count": 117,
     "metadata": {},
     "output_type": "execute_result"
    }
   ],
   "source": [
    "{i: rules[i] for i in keys}"
   ]
  },
  {
   "cell_type": "code",
   "execution_count": 23,
   "metadata": {},
   "outputs": [],
   "source": [
    "# df['Audience']=[','.join([j.strip(' ;')for j in i.split('#')]) for i in list(df['Audience'])]"
   ]
  },
  {
   "cell_type": "code",
   "execution_count": 24,
   "metadata": {},
   "outputs": [],
   "source": [
    "# s = set()\n",
    "# for i in range(len(df)):\n",
    "#     s.add((df.iloc[i]['Classification'],df.iloc[i]['Category']))"
   ]
  },
  {
   "cell_type": "code",
   "execution_count": 25,
   "metadata": {},
   "outputs": [],
   "source": [
    "# d"
   ]
  },
  {
   "cell_type": "code",
   "execution_count": 26,
   "metadata": {},
   "outputs": [],
   "source": [
    "# d = {i: i[0] for i in s}"
   ]
  },
  {
   "cell_type": "code",
   "execution_count": 27,
   "metadata": {},
   "outputs": [],
   "source": [
    "# d[('Academics', 'Arts/Culture')]='AC&F'\n",
    "# d[('Aquatics', 'Fitness')]='Sport'\n",
    "# d[('Aquatics', 'Sport')]='Sport'\n",
    "# d[('Tier 1', 'Sport')]='Sport'\n",
    "# d[('Tier 2', 'Fitness')]='Sport'\n",
    "# d[('Tier 2', 'Sport')]='Sport'\n",
    "# d[('Tier 3', 'Sport')]='Sport'"
   ]
  },
  {
   "cell_type": "code",
   "execution_count": 28,
   "metadata": {},
   "outputs": [],
   "source": [
    "# df=df.drop(columns=['Unit','Group Name/Partner','Date and Time','LocationType','Location','Event Name'])"
   ]
  },
  {
   "cell_type": "code",
   "execution_count": 29,
   "metadata": {},
   "outputs": [],
   "source": [
    "# l = [d[(df.iloc[i]['Classification'],df.iloc[i]['Category'])] for i in range(len(df))]"
   ]
  },
  {
   "cell_type": "code",
   "execution_count": 30,
   "metadata": {},
   "outputs": [],
   "source": [
    "# l=[i if i==i else 'Other' for i in l]"
   ]
  },
  {
   "cell_type": "code",
   "execution_count": 31,
   "metadata": {},
   "outputs": [],
   "source": [
    "# df['Class']=l"
   ]
  },
  {
   "cell_type": "code",
   "execution_count": 32,
   "metadata": {},
   "outputs": [],
   "source": [
    "# df=df.drop(columns=['Category','Classification'])"
   ]
  },
  {
   "cell_type": "code",
   "execution_count": 33,
   "metadata": {},
   "outputs": [],
   "source": [
    "# for i in range(len(df)):\n",
    "#     d[df.iloc[i]['Borough']][df.iloc[i]['Class']][0]+=df.iloc[i]['Attendance']\n",
    "#     d[df.iloc[i]['Borough']][df.iloc[i]['Class']][1]+=1"
   ]
  },
  {
   "cell_type": "code",
   "execution_count": 34,
   "metadata": {},
   "outputs": [],
   "source": [
    "# pth = '../Documents/8/DM/proj/'\n",
    "# for i in s:\n",
    "#     df1[df1['Borough']==i].iloc[:,6:].to_csv(pth+i+'.tsv',sep='\\t',index=False)"
   ]
  },
  {
   "cell_type": "code",
   "execution_count": 35,
   "metadata": {},
   "outputs": [],
   "source": [
    "# s"
   ]
  },
  {
   "cell_type": "code",
   "execution_count": 36,
   "metadata": {},
   "outputs": [],
   "source": [
    "# s=set(df1['Borough'])"
   ]
  },
  {
   "cell_type": "code",
   "execution_count": 37,
   "metadata": {},
   "outputs": [],
   "source": [
    "# set(df1['Category'])"
   ]
  },
  {
   "cell_type": "code",
   "execution_count": 38,
   "metadata": {},
   "outputs": [],
   "source": [
    "# df1 = df1.dropna()"
   ]
  },
  {
   "cell_type": "code",
   "execution_count": 39,
   "metadata": {},
   "outputs": [],
   "source": [
    "# set(df1[df1.isna().any(axis=1)]['Classification'])"
   ]
  },
  {
   "cell_type": "code",
   "execution_count": 40,
   "metadata": {},
   "outputs": [],
   "source": [
    "# df1['Classification']=df1['Classification'].fillna('other')"
   ]
  },
  {
   "cell_type": "code",
   "execution_count": 41,
   "metadata": {},
   "outputs": [],
   "source": [
    "# df1 = df.drop(columns=['Group Name/Partner'])"
   ]
  },
  {
   "cell_type": "code",
   "execution_count": 42,
   "metadata": {},
   "outputs": [],
   "source": [
    "# s1 = {'General Public','Adults','Children','Seniors','Teens'}\n",
    "# c = 0\n",
    "# for i in l:\n",
    "#     for j in s1:\n",
    "#         if j in i:\n",
    "#             c+=1\n",
    "#             break\n",
    "# c"
   ]
  },
  {
   "cell_type": "code",
   "execution_count": 43,
   "metadata": {},
   "outputs": [],
   "source": [
    "# s"
   ]
  },
  {
   "cell_type": "code",
   "execution_count": 44,
   "metadata": {},
   "outputs": [],
   "source": [
    "# s = set()\n",
    "# for i in l:\n",
    "#     for j in i:\n",
    "#         s.add(j)"
   ]
  },
  {
   "cell_type": "code",
   "execution_count": 45,
   "metadata": {},
   "outputs": [],
   "source": [
    "# l = df['Audience']\n",
    "# l = [i.split(',') for i in l]"
   ]
  },
  {
   "cell_type": "code",
   "execution_count": 46,
   "metadata": {},
   "outputs": [],
   "source": [
    "# df.to_csv('filtered.tsv',sep='\\t',index=False)"
   ]
  }
 ],
 "metadata": {
  "kernelspec": {
   "display_name": "Python 3",
   "language": "python",
   "name": "python3"
  },
  "language_info": {
   "codemirror_mode": {
    "name": "ipython",
    "version": 3
   },
   "file_extension": ".py",
   "mimetype": "text/x-python",
   "name": "python",
   "nbconvert_exporter": "python",
   "pygments_lexer": "ipython3",
   "version": "3.8.5"
  }
 },
 "nbformat": 4,
 "nbformat_minor": 4
}
